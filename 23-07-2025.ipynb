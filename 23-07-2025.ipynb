{
 "cells": [
  {
   "cell_type": "markdown",
   "id": "59911086",
   "metadata": {},
   "source": [
    "### Iterators"
   ]
  },
  {
   "cell_type": "code",
   "execution_count": null,
   "id": "bf89d135",
   "metadata": {},
   "outputs": [
    {
     "name": "stdout",
     "output_type": "stream",
     "text": [
      "Vikas\n",
      "Anusha\n"
     ]
    }
   ],
   "source": [
    "a = [\"Shanmukha Sai V\", \"Subba Raju\", \"Sunil\", \"Priyanka\", \"Vikas\", \"Janardhan\", \"Anusha\"]\n",
    "\n",
    "for name in a:  \n",
    "    if \"s\" in name: # character to character comparison\n",
    "        print(name)"
   ]
  },
  {
   "cell_type": "code",
   "execution_count": 7,
   "id": "4a089132",
   "metadata": {},
   "outputs": [
    {
     "name": "stdout",
     "output_type": "stream",
     "text": [
      "shanmukha sai v\n",
      "subba raju\n",
      "sunil\n",
      "vikas\n",
      "anusha\n"
     ]
    }
   ],
   "source": [
    "a = [\"Shanmukha Sai V\", \"Subba Raju\", \"Sunil\", \"Priyanka\", \"Vikas\", \"Janardhan\", \"Anusha\"]\n",
    "\n",
    "for name in a: \n",
    "    name = name.lower()\n",
    "    if \"s\" in name: # character to character comparison\n",
    "        print(name)"
   ]
  },
  {
   "cell_type": "code",
   "execution_count": 79,
   "id": "fbc21451",
   "metadata": {},
   "outputs": [],
   "source": [
    "file = open(\"test.txt\")"
   ]
  },
  {
   "cell_type": "code",
   "execution_count": 80,
   "id": "049245ba",
   "metadata": {},
   "outputs": [],
   "source": [
    "content=file.read()"
   ]
  },
  {
   "cell_type": "code",
   "execution_count": 81,
   "id": "85742d63",
   "metadata": {},
   "outputs": [
    {
     "name": "stdout",
     "output_type": "stream",
     "text": [
      "Hi\n",
      "Good day!\n",
      "Welcome to Quality Thought, Day#0\n",
      "\n",
      "Myself Shanmukha Sai V, Data Sciencise Instructor\n"
     ]
    }
   ],
   "source": [
    "print(content)"
   ]
  },
  {
   "cell_type": "code",
   "execution_count": 82,
   "id": "2c745692",
   "metadata": {},
   "outputs": [],
   "source": [
    "file = open(\"./test.txt\") #\".\" means current directory"
   ]
  },
  {
   "cell_type": "code",
   "execution_count": 83,
   "id": "aa811ec6",
   "metadata": {},
   "outputs": [],
   "source": [
    "content1 = file.read()"
   ]
  },
  {
   "cell_type": "code",
   "execution_count": 84,
   "id": "4c812c96",
   "metadata": {},
   "outputs": [
    {
     "name": "stdout",
     "output_type": "stream",
     "text": [
      "Hi\n",
      "Good day!\n",
      "Welcome to Quality Thought, Day#0\n",
      "\n",
      "Myself Shanmukha Sai V, Data Sciencise Instructor\n"
     ]
    }
   ],
   "source": [
    "print(content1)"
   ]
  },
  {
   "cell_type": "code",
   "execution_count": 85,
   "id": "959e1cac",
   "metadata": {},
   "outputs": [],
   "source": [
    "import os"
   ]
  },
  {
   "cell_type": "code",
   "execution_count": 86,
   "id": "bcb32487",
   "metadata": {},
   "outputs": [],
   "source": [
    "full_path = os.path.join(os.getcwd(),\"test1.txt\")"
   ]
  },
  {
   "cell_type": "code",
   "execution_count": 87,
   "id": "ab362209",
   "metadata": {},
   "outputs": [
    {
     "name": "stdout",
     "output_type": "stream",
     "text": [
      "d:\\Quality Thought\\Day#0\\test1.txt\n"
     ]
    }
   ],
   "source": [
    "print(full_path)"
   ]
  },
  {
   "cell_type": "code",
   "execution_count": 88,
   "id": "176966b1",
   "metadata": {},
   "outputs": [],
   "source": [
    "file=open(full_path)"
   ]
  },
  {
   "cell_type": "code",
   "execution_count": 89,
   "id": "61bc054b",
   "metadata": {},
   "outputs": [],
   "source": [
    "content2=file.read()"
   ]
  },
  {
   "cell_type": "code",
   "execution_count": 90,
   "id": "6db804ce",
   "metadata": {},
   "outputs": [
    {
     "name": "stdout",
     "output_type": "stream",
     "text": [
      "Hi\n",
      "Good day!\n",
      "Welcome to Quality Thought, Day#0\n",
      "\n",
      "Myself Shanmukha Sai V, Data Sciencise Instructor\n",
      "dt: 21st July 2025\n",
      "\n"
     ]
    }
   ],
   "source": [
    "print(content2)"
   ]
  },
  {
   "cell_type": "code",
   "execution_count": 91,
   "id": "5de2040f",
   "metadata": {},
   "outputs": [
    {
     "data": {
      "text/plain": [
       "'\\nwork_dir=\"D:\\\\Quality Thought\"\\nfile_name = \"word.txt\"\\nfull_path=os.path.normpath(work_dir,file_name)\\nprint(full_path)\\n'"
      ]
     },
     "execution_count": 91,
     "metadata": {},
     "output_type": "execute_result"
    }
   ],
   "source": [
    "\"\"\"\n",
    "work_dir=\"D:\\Quality Thought\"\n",
    "file_name = \"word.txt\"\n",
    "full_path=os.path.normpath(work_dir,file_name)\n",
    "print(full_path)\n",
    "\"\"\""
   ]
  },
  {
   "cell_type": "code",
   "execution_count": 92,
   "id": "97e3bae6",
   "metadata": {},
   "outputs": [],
   "source": [
    "qt = \"Quality Thought\""
   ]
  },
  {
   "cell_type": "code",
   "execution_count": 93,
   "id": "da948eed",
   "metadata": {},
   "outputs": [
    {
     "data": {
      "text/plain": [
       "['Quality', 'Thought']"
      ]
     },
     "execution_count": 93,
     "metadata": {},
     "output_type": "execute_result"
    }
   ],
   "source": [
    "qt.split()"
   ]
  },
  {
   "cell_type": "code",
   "execution_count": 94,
   "id": "bde73608",
   "metadata": {},
   "outputs": [
    {
     "data": {
      "text/plain": [
       "['Quality ', 'hought']"
      ]
     },
     "execution_count": 94,
     "metadata": {},
     "output_type": "execute_result"
    }
   ],
   "source": [
    "qt.split(\"T\")"
   ]
  },
  {
   "cell_type": "code",
   "execution_count": 95,
   "id": "7e12af8e",
   "metadata": {},
   "outputs": [
    {
     "data": {
      "text/plain": [
       "['Quali', 'y Though', '']"
      ]
     },
     "execution_count": 95,
     "metadata": {},
     "output_type": "execute_result"
    }
   ],
   "source": [
    "qt.split(\"t\")"
   ]
  },
  {
   "cell_type": "code",
   "execution_count": 96,
   "id": "e7927098",
   "metadata": {},
   "outputs": [
    {
     "data": {
      "text/plain": [
       "['Hi',\n",
       " 'Good',\n",
       " 'day!',\n",
       " 'Welcome',\n",
       " 'to',\n",
       " 'Quality',\n",
       " 'Thought,',\n",
       " 'Day#0',\n",
       " 'Myself',\n",
       " 'Shanmukha',\n",
       " 'Sai',\n",
       " 'V,',\n",
       " 'Data',\n",
       " 'Sciencise',\n",
       " 'Instructor',\n",
       " 'dt:',\n",
       " '21st',\n",
       " 'July',\n",
       " '2025']"
      ]
     },
     "execution_count": 96,
     "metadata": {},
     "output_type": "execute_result"
    }
   ],
   "source": [
    "content2.split()"
   ]
  },
  {
   "cell_type": "code",
   "execution_count": 101,
   "id": "ecc68af7",
   "metadata": {},
   "outputs": [
    {
     "name": "stdout",
     "output_type": "stream",
     "text": [
      "Hi\n",
      "Good day!\n",
      "Welcome to Quality Thought, Day#0\n",
      "\n",
      "Myself Shanmukha Sai V, Data Sciencise Instructor\n",
      "dt: 21st July 2025\n",
      "\n"
     ]
    }
   ],
   "source": [
    "print(content2)"
   ]
  },
  {
   "cell_type": "code",
   "execution_count": 103,
   "id": "1c60ffb8",
   "metadata": {},
   "outputs": [],
   "source": [
    "f = open(\"test1.txt\")"
   ]
  },
  {
   "cell_type": "code",
   "execution_count": 104,
   "id": "158e427a",
   "metadata": {},
   "outputs": [],
   "source": [
    "lines = f.readlines()"
   ]
  },
  {
   "cell_type": "markdown",
   "id": "14f1f31b",
   "metadata": {},
   "source": [
    "read() -> reads all lines\n",
    "readline() -> read one line\n",
    "readlines() -> read all lines"
   ]
  },
  {
   "cell_type": "code",
   "execution_count": 105,
   "id": "4f9a5c30",
   "metadata": {},
   "outputs": [
    {
     "name": "stdout",
     "output_type": "stream",
     "text": [
      "['Hi\\n', 'Good day!\\n', 'Welcome to Quality Thought, Day#0\\n', '\\n', 'Myself Shanmukha Sai V, Data Sciencise Instructor\\n', 'dt: 21st July 2025\\n']\n"
     ]
    }
   ],
   "source": [
    "print(lines)"
   ]
  },
  {
   "cell_type": "code",
   "execution_count": 106,
   "id": "61179c41",
   "metadata": {},
   "outputs": [],
   "source": [
    "f.close()"
   ]
  },
  {
   "cell_type": "code",
   "execution_count": 108,
   "id": "d02629d4",
   "metadata": {},
   "outputs": [
    {
     "ename": "ValueError",
     "evalue": "I/O operation on closed file.",
     "output_type": "error",
     "traceback": [
      "\u001b[1;31m---------------------------------------------------------------------------\u001b[0m",
      "\u001b[1;31mValueError\u001b[0m                                Traceback (most recent call last)",
      "Cell \u001b[1;32mIn[108], line 1\u001b[0m\n\u001b[1;32m----> 1\u001b[0m \u001b[43mf\u001b[49m\u001b[38;5;241;43m.\u001b[39;49m\u001b[43mreadlines\u001b[49m\u001b[43m(\u001b[49m\u001b[43m)\u001b[49m\n",
      "\u001b[1;31mValueError\u001b[0m: I/O operation on closed file."
     ]
    }
   ],
   "source": [
    "f.readlines()"
   ]
  },
  {
   "cell_type": "markdown",
   "id": "6412ae1d",
   "metadata": {},
   "source": [
    "Files modes:\n",
    "'r' -> Read, error if files doesn't exist\n",
    "open(\"file_path\",mode), if we doesn't specify mode, default is read 'r'\n",
    "'w' -> when we open .txt file & want to edit the details, we need to open with 'w' write mode\n",
    "its creates new file or truncates the existing file"
   ]
  },
  {
   "cell_type": "code",
   "execution_count": 110,
   "id": "8ab656f6",
   "metadata": {},
   "outputs": [],
   "source": [
    "# w mode\n",
    "with open(\"./a.txt\",\"w\") as f:\n",
    "    f.write(\"Hi team, Welcome to class.\")"
   ]
  },
  {
   "cell_type": "code",
   "execution_count": null,
   "id": "5ff11eef",
   "metadata": {},
   "outputs": [],
   "source": [
    "#with open(\"./test.txt\",\"w\") as f:\n",
    "#    f.write(\"Hi team, Welcome to class.\")"
   ]
  }
 ],
 "metadata": {
  "kernelspec": {
   "display_name": "Python 3",
   "language": "python",
   "name": "python3"
  },
  "language_info": {
   "codemirror_mode": {
    "name": "ipython",
    "version": 3
   },
   "file_extension": ".py",
   "mimetype": "text/x-python",
   "name": "python",
   "nbconvert_exporter": "python",
   "pygments_lexer": "ipython3",
   "version": "3.12.0"
  }
 },
 "nbformat": 4,
 "nbformat_minor": 5
}
