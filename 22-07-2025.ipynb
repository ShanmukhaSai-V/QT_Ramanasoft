{
 "cells": [
  {
   "cell_type": "code",
   "execution_count": 2,
   "id": "c42a4393",
   "metadata": {},
   "outputs": [
    {
     "data": {
      "text/plain": [
       "4"
      ]
     },
     "execution_count": 2,
     "metadata": {},
     "output_type": "execute_result"
    }
   ],
   "source": [
    "2+2\n"
   ]
  },
  {
   "cell_type": "code",
   "execution_count": 3,
   "id": "18cd05a6",
   "metadata": {},
   "outputs": [
    {
     "name": "stdout",
     "output_type": "stream",
     "text": [
      "Welcomen to QT\n"
     ]
    }
   ],
   "source": [
    "print(\"Welcomen to QT\")"
   ]
  },
  {
   "cell_type": "code",
   "execution_count": 4,
   "id": "622bb67a",
   "metadata": {},
   "outputs": [],
   "source": [
    "import pandas as pd\n",
    "import numpy as np"
   ]
  },
  {
   "cell_type": "code",
   "execution_count": 5,
   "id": "64a4b682",
   "metadata": {},
   "outputs": [
    {
     "name": "stdout",
     "output_type": "stream",
     "text": [
      "Requirement already satisfied: scipy in d:\\quality thought\\venv_qt\\lib\\site-packages (1.16.0)\n",
      "Requirement already satisfied: numpy<2.6,>=1.25.2 in d:\\quality thought\\venv_qt\\lib\\site-packages (from scipy) (2.3.1)\n"
     ]
    }
   ],
   "source": [
    "!pip install scipy\n",
    "from scipy import stats"
   ]
  },
  {
   "cell_type": "code",
   "execution_count": 6,
   "id": "2c74ff56",
   "metadata": {},
   "outputs": [],
   "source": [
    "data = [10,20,30,30,40,40,40,50,60,60,70,80,90,90]"
   ]
  },
  {
   "cell_type": "code",
   "execution_count": 7,
   "id": "9d8cb9ea",
   "metadata": {},
   "outputs": [
    {
     "name": "stdout",
     "output_type": "stream",
     "text": [
      "50.714285714285715\n"
     ]
    }
   ],
   "source": [
    "print(np.mean(data))"
   ]
  },
  {
   "cell_type": "code",
   "execution_count": 8,
   "id": "7d91ee8e",
   "metadata": {},
   "outputs": [
    {
     "name": "stdout",
     "output_type": "stream",
     "text": [
      "45.0\n"
     ]
    }
   ],
   "source": [
    "print(np.median(data))"
   ]
  },
  {
   "cell_type": "code",
   "execution_count": 9,
   "id": "353cf6dc",
   "metadata": {},
   "outputs": [
    {
     "name": "stdout",
     "output_type": "stream",
     "text": [
      "ModeResult(mode=np.int64(40), count=np.int64(3))\n"
     ]
    }
   ],
   "source": [
    "print(stats.mode(data))"
   ]
  },
  {
   "cell_type": "code",
   "execution_count": 10,
   "id": "6299e1d1",
   "metadata": {},
   "outputs": [],
   "source": [
    "mode_via_scipy = stats.mode(data)"
   ]
  },
  {
   "cell_type": "code",
   "execution_count": 11,
   "id": "dffe3976",
   "metadata": {},
   "outputs": [
    {
     "data": {
      "text/plain": [
       "np.int64(40)"
      ]
     },
     "execution_count": 11,
     "metadata": {},
     "output_type": "execute_result"
    }
   ],
   "source": [
    "mode_via_scipy[0]"
   ]
  },
  {
   "cell_type": "code",
   "execution_count": 12,
   "id": "2ea73688",
   "metadata": {},
   "outputs": [
    {
     "data": {
      "text/plain": [
       "np.int64(3)"
      ]
     },
     "execution_count": 12,
     "metadata": {},
     "output_type": "execute_result"
    }
   ],
   "source": [
    "mode_via_scipy[1]"
   ]
  },
  {
   "cell_type": "markdown",
   "id": "63a54160",
   "metadata": {},
   "source": [
    "### Measurement of Dispersion(Spread)/\n",
    "\n",
    "#### Variance & Standard Deviation"
   ]
  },
  {
   "cell_type": "markdown",
   "id": "5e1303e8",
   "metadata": {},
   "source": [
    "Population Variance (σ² = Σ (Xi - μ)² / N) \n",
    "\n",
    "Standard deviation = sqrt(Σ (Xi - μ)² / N)\n",
    "Xi -> value of each point\n",
    "\n",
    "μ -> mean\n",
    "\n",
    "N -> number of data points in the population\n",
    "\n",
    "Sample variance(s2) = Σ (Xi - μ)² / (N-1))"
   ]
  },
  {
   "cell_type": "code",
   "execution_count": 14,
   "id": "99d1aea8",
   "metadata": {},
   "outputs": [],
   "source": [
    "#IQR\n",
    "scores=[60,70,75,80,85,90,95]"
   ]
  },
  {
   "cell_type": "code",
   "execution_count": 18,
   "id": "81bdafdc",
   "metadata": {},
   "outputs": [],
   "source": [
    "q1 = np.percentile(scores,25)"
   ]
  },
  {
   "cell_type": "code",
   "execution_count": 19,
   "id": "b35fa6da",
   "metadata": {},
   "outputs": [],
   "source": [
    "q2 = np.percentile(scores,50)"
   ]
  },
  {
   "cell_type": "code",
   "execution_count": 20,
   "id": "4521efe0",
   "metadata": {},
   "outputs": [],
   "source": [
    "q3 = np.percentile(scores,75)"
   ]
  },
  {
   "cell_type": "code",
   "execution_count": 22,
   "id": "5094c3dc",
   "metadata": {},
   "outputs": [
    {
     "name": "stdout",
     "output_type": "stream",
     "text": [
      "15.0\n"
     ]
    }
   ],
   "source": [
    "IQR = (q3 - q1)\n",
    "print(IQR)"
   ]
  },
  {
   "cell_type": "markdown",
   "id": "26e4091c",
   "metadata": {},
   "source": [
    "# IQR \n",
    "When data is skewed we use IQR to get the median of data\n",
    "\n",
    "# SD & Variance\n",
    "When data is distributed as Normal graph (Bell Curve), we use SD & VAriance"
   ]
  },
  {
   "cell_type": "code",
   "execution_count": null,
   "id": "a219f923",
   "metadata": {},
   "outputs": [],
   "source": []
  }
 ],
 "metadata": {
  "kernelspec": {
   "display_name": "Python 3",
   "language": "python",
   "name": "python3"
  },
  "language_info": {
   "codemirror_mode": {
    "name": "ipython",
    "version": 3
   },
   "file_extension": ".py",
   "mimetype": "text/x-python",
   "name": "python",
   "nbconvert_exporter": "python",
   "pygments_lexer": "ipython3",
   "version": "3.12.0"
  }
 },
 "nbformat": 4,
 "nbformat_minor": 5
}
